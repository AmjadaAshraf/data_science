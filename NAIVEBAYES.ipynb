{
  "nbformat": 4,
  "nbformat_minor": 0,
  "metadata": {
    "colab": {
      "name": "NAIVEBAYES.ipynb",
      "provenance": [],
      "authorship_tag": "ABX9TyOoytEH/VeICwzKjot4e22D",
      "include_colab_link": true
    },
    "kernelspec": {
      "name": "python3",
      "display_name": "Python 3"
    },
    "language_info": {
      "name": "python"
    }
  },
  "cells": [
    {
      "cell_type": "markdown",
      "metadata": {
        "id": "view-in-github",
        "colab_type": "text"
      },
      "source": [
        "<a href=\"https://colab.research.google.com/github/AmjadaAshraf/data_science/blob/master/NAIVEBAYES.ipynb\" target=\"_parent\"><img src=\"https://colab.research.google.com/assets/colab-badge.svg\" alt=\"Open In Colab\"/></a>"
      ]
    },
    {
      "cell_type": "code",
      "execution_count": 2,
      "metadata": {
        "colab": {
          "base_uri": "https://localhost:8080/"
        },
        "id": "nUtJtWqCJliS",
        "outputId": "aeb36ae0-2a40-4f99-bff4-b6c0bf5686f3"
      },
      "outputs": [
        {
          "output_type": "stream",
          "name": "stdout",
          "text": [
            "Accuracy: 0.8947368421052632\n"
          ]
        }
      ],
      "source": [
        "from sklearn.datasets import load_iris\n",
        "from sklearn.model_selection import train_test_split\n",
        "from sklearn.naive_bayes import GaussianNB\n",
        "iris=load_iris()\n",
        "x_train,x_test,y_train,y_test=train_test_split(iris.data,iris.target,test_size=0.25)\n",
        "#create a gaussian nb classifier\n",
        "gnb=GaussianNB()\n",
        "#train the model using training set \n",
        "gnb.fit(x_train,y_train)\n",
        "#predict the response for test data set\n",
        "y_predict=gnb.predict(x_test)\n",
        "#import metrics module for accuracy calculation\n",
        "from sklearn import metrics\n",
        "print(\"Accuracy:\",metrics.accuracy_score(y_test,y_predict))"
      ]
    }
  ]
}