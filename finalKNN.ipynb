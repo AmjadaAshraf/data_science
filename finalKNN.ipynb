{
  "nbformat": 4,
  "nbformat_minor": 0,
  "metadata": {
    "colab": {
      "name": "finalKNN.ipynb",
      "provenance": [],
      "authorship_tag": "ABX9TyMCTguazI5355iHR4hShgix",
      "include_colab_link": true
    },
    "kernelspec": {
      "name": "python3",
      "display_name": "Python 3"
    },
    "language_info": {
      "name": "python"
    }
  },
  "cells": [
    {
      "cell_type": "markdown",
      "metadata": {
        "id": "view-in-github",
        "colab_type": "text"
      },
      "source": [
        "<a href=\"https://colab.research.google.com/github/AmjadaAshraf/data_science/blob/master/finalKNN.ipynb\" target=\"_parent\"><img src=\"https://colab.research.google.com/assets/colab-badge.svg\" alt=\"Open In Colab\"/></a>"
      ]
    },
    {
      "cell_type": "code",
      "execution_count": null,
      "metadata": {
        "colab": {
          "base_uri": "https://localhost:8080/"
        },
        "id": "igRWT3MUukOm",
        "outputId": "d0efe9bb-e7dd-40d0-964e-0794c1fb5cba"
      },
      "outputs": [
        {
          "output_type": "stream",
          "name": "stdout",
          "text": [
            "Fruit\n",
            "probability :  [[0.33333333 0.33333333 0.33333333]]\n"
          ]
        }
      ],
      "source": [
        "from sklearn.neighbors import KNeighborsClassifier\n",
        "model=KNeighborsClassifier(n_neighbors=3)\n",
        "#print(type(model))\n",
        "model.fit([[8,5],[3,7],[3,6,],[7,3,]],[1,0,1,2])\n",
        "predict=model.predict([[0,2]])\n",
        "\n",
        "if(predict==0):\n",
        "  print(\"Fruit\")\n",
        "if(predict==1):\n",
        "  print(\"Vegetable\")\n",
        "if(predict==2):\n",
        "  print(\"Protein\")\n",
        "print(\"probability : \",model.predict_proba([[0,2]]))\n",
        "\n"
      ]
    },
    {
      "cell_type": "code",
      "source": [
        "from sklearn.neighbors import KNeighborsClassifier\n",
        "from sklearn.datasets import load_iris\n",
        "\n",
        "model=KNeighborsClassifier(n_neighbors=4)\n",
        "print(type(model))\n",
        "X,y=load_iris(return_X_y=True)\n",
        "model.fit(X,y)\n",
        "predict=model.predict([[5.1,3.5,1.4,0.2]])\n",
        "if(predict==0):\n",
        "  print(\"Iris setosa\")\n",
        "if(predict==1):\n",
        "  print(\"Iris versicolor\")\n",
        "if(predict==2):\n",
        "  print(\"Iris virginica\")"
      ],
      "metadata": {
        "id": "RR4MT12hBULZ",
        "outputId": "1a1abd53-c557-4335-971d-d4f565335312",
        "colab": {
          "base_uri": "https://localhost:8080/"
        }
      },
      "execution_count": null,
      "outputs": [
        {
          "output_type": "stream",
          "name": "stdout",
          "text": [
            "<class 'sklearn.neighbors._classification.KNeighborsClassifier'>\n",
            "Iris setosa\n"
          ]
        }
      ]
    },
    {
      "cell_type": "code",
      "source": [
        "from sklearn.neighbors import KNeighborsClassifier\n",
        "from sklearn.datasets import load_iris\n",
        "from sklearn.model_selection import train_test_split\n",
        "\n",
        "model=KNeighborsClassifier(n_neighbors=4)\n",
        "X,y=load_iris(return_X_y=True)\n",
        "X_train,X_test,y_train,y_test=train_test_split(X,y,test_size=0.5)\n",
        "y_predict=model.fit(X_train,y_train).predict(X_test)\n",
        "print(\"number of mislabeled points out of total %d points:%d \"%(X_test.shape[0],(y_test!=y_predict).sum()))\n"
      ],
      "metadata": {
        "id": "g47-HqAPOzqS"
      },
      "execution_count": null,
      "outputs": []
    }
  ]
}