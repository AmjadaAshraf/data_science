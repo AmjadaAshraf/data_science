{
  "nbformat": 4,
  "nbformat_minor": 0,
  "metadata": {
    "colab": {
      "name": "KNN.ipynb",
      "provenance": [],
      "authorship_tag": "ABX9TyOSU5jBeXGuyK8hJ45hMI7f",
      "include_colab_link": true
    },
    "kernelspec": {
      "name": "python3",
      "display_name": "Python 3"
    },
    "language_info": {
      "name": "python"
    }
  },
  "cells": [
    {
      "cell_type": "markdown",
      "metadata": {
        "id": "view-in-github",
        "colab_type": "text"
      },
      "source": [
        "<a href=\"https://colab.research.google.com/github/AmjadaAshraf/data_science/blob/master/KNN.ipynb\" target=\"_parent\"><img src=\"https://colab.research.google.com/assets/colab-badge.svg\" alt=\"Open In Colab\"/></a>"
      ]
    },
    {
      "cell_type": "code",
      "execution_count": 1,
      "metadata": {
        "colab": {
          "base_uri": "https://localhost:8080/"
        },
        "id": "ZO0srPEkJKlY",
        "outputId": "2dff5a6c-07ff-4b96-ce50-50aa3a0663a9"
      },
      "outputs": [
        {
          "output_type": "stream",
          "name": "stdout",
          "text": [
            "<class 'sklearn.neighbors._classification.KNeighborsClassifier'>\n",
            "[0]\n",
            "[[0.33333333 0.33333333 0.33333333]]\n",
            "No.of unlabeled points out of a total 45 points:1\n",
            "0.9777777777777777\n"
          ]
        }
      ],
      "source": [
        "from sklearn.neighbors import KNeighborsClassifier\n",
        "model=KNeighborsClassifier(n_neighbors=3)\n",
        "print(type(model))\n",
        "model.fit([[8,5],[3,7],[3,6],[7,3]],[1,0,1,2])\n",
        "predict=model.predict([[0,2]])\n",
        "print(predict)\n",
        "print(model.predict_proba([[0,2]]))\n",
        "\n",
        "from sklearn.neighbors import KNeighborsClassifier\n",
        "model=KNeighborsClassifier(n_neighbors=4)\n",
        "from sklearn.datasets import load_iris\n",
        "from sklearn.model_selection import train_test_split\n",
        "\n",
        "X,y=load_iris(return_X_y=True)\n",
        "X_train,X_test,y_train,y_test=train_test_split(X,y,test_size=0.3,random_state=0)\n",
        "y_pred=model.fit(X_train,y_train).predict(X_test)\n",
        "print(\"No.of unlabeled points out of a total %d points:%d\" %(X_test.shape[0],(y_test!=y_pred).sum()))\n",
        "from sklearn.metrics import accuracy_score\n",
        "print(accuracy_score(y_test,y_pred))"
      ]
    }
  ]
}