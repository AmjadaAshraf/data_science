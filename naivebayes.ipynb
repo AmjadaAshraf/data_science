{
  "nbformat": 4,
  "nbformat_minor": 0,
  "metadata": {
    "colab": {
      "name": "naivebayes.ipynb",
      "provenance": [],
      "authorship_tag": "ABX9TyM4GpXe0SaBd88pxgyU/1VO",
      "include_colab_link": true
    },
    "kernelspec": {
      "name": "python3",
      "display_name": "Python 3"
    },
    "language_info": {
      "name": "python"
    }
  },
  "cells": [
    {
      "cell_type": "markdown",
      "metadata": {
        "id": "view-in-github",
        "colab_type": "text"
      },
      "source": [
        "<a href=\"https://colab.research.google.com/github/AmjadaAshraf/data_science/blob/master/naivebayes.ipynb\" target=\"_parent\"><img src=\"https://colab.research.google.com/assets/colab-badge.svg\" alt=\"Open In Colab\"/></a>"
      ]
    },
    {
      "cell_type": "code",
      "source": [
        "from sklearn.datasets import load_iris\n",
        "from sklearn.model_selection import train_test_split\n",
        "from sklearn.naive_bayes  import GaussianNB\n",
        "\n",
        "X,y=load_iris(return_X_y=True)\n",
        "#print(X)\n",
        "#print(y)\n",
        "X_train,X_test,y_train,y_test=train_test_split(X,y,test_size=0.5)\n",
        "obj=GaussianNB()\n",
        "\n",
        "y_predict=obj.fit(X_train,y_train).predict(X_test)\n",
        "print(\"number of mislabeled points out of total %d points:%d \"%(X_test.shape[0],(y_test!=y_predict).sum()))"
      ],
      "metadata": {
        "colab": {
          "base_uri": "https://localhost:8080/"
        },
        "id": "Fm2_8SXmAiex",
        "outputId": "fa6690e7-5392-4330-d5ff-2e53ee60e993"
      },
      "execution_count": null,
      "outputs": [
        {
          "output_type": "stream",
          "name": "stdout",
          "text": [
            "number of mislabeled points out of total 75 points:3 \n"
          ]
        }
      ]
    }
  ]
}