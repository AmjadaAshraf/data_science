{
  "nbformat": 4,
  "nbformat_minor": 0,
  "metadata": {
    "colab": {
      "name": "SVMTEXTCLASSIFICATION.ipynb",
      "provenance": [],
      "authorship_tag": "ABX9TyPeRa9c+vEx3gqS3+iFVi/P",
      "include_colab_link": true
    },
    "kernelspec": {
      "name": "python3",
      "display_name": "Python 3"
    },
    "language_info": {
      "name": "python"
    }
  },
  "cells": [
    {
      "cell_type": "markdown",
      "metadata": {
        "id": "view-in-github",
        "colab_type": "text"
      },
      "source": [
        "<a href=\"https://colab.research.google.com/github/AmjadaAshraf/data_science/blob/master/SVMTEXTCLASSIFICATION.ipynb\" target=\"_parent\"><img src=\"https://colab.research.google.com/assets/colab-badge.svg\" alt=\"Open In Colab\"/></a>"
      ]
    },
    {
      "cell_type": "code",
      "execution_count": null,
      "metadata": {
        "id": "QNqDETp3MB4F"
      },
      "outputs": [],
      "source": [
        "import pandas as pd\n",
        "import numpy as np\n",
        "from nltk.tokenize import word_tokenize\n",
        "from nltk import pos_tag\n",
        "from nltk.corpus import stopwords\n",
        "from nltk.stem import WordNetLemmatizer\n",
        "from sklearn.preprocessing import LabelEncoder\n",
        "from collections import defaultdict\n",
        "from nltk.corpus import wordnet as wn\n",
        "from sklearn.feature_extraction.text import TfidfVectorizer\n",
        "from sklearn import model_selection, naive_bayes, svm\n",
        "from sklearn.metrics import accuracy_score\n",
        "import nltk\n",
        "nltk.download('punkt')\n",
        "nltk.download('wordnet')\n",
        "nltk.download('averaged_perceptron_tagger')\n",
        "nltk.download('stopwords')\n",
        "\n",
        "\n",
        "np.random.seed(500)\n",
        "Corpus = pd.read_csv('corpus.csv')\n",
        "\n",
        "\n",
        "Corpus['text'].dropna(inplace=True)\n",
        "Corpus['text'] = [entry.lower() for entry in Corpus['text']]\n",
        "Corpus['text']= [word_tokenize(entry) for entry in Corpus['text']]\n",
        "\n",
        "\n",
        "tag_map = defaultdict(lambda : wn.NOUN)\n",
        "tag_map['J'] = wn.ADJ\n",
        "tag_map['V'] = wn.VERB\n",
        "tag_map['R'] = wn.ADV\n",
        "\n",
        "\n",
        "\n",
        "for index,entry in enumerate(Corpus['text']):\n",
        "  Final_words = []\n",
        "  word_Lemmatized = WordNetLemmatizer()\n",
        "  for word, tag in pos_tag(entry):\n",
        "    if word not in stopwords.words('english') and word.isalpha():\n",
        "      word_Final = word_Lemmatized.lemmatize(word,tag_map[tag[0]])\n",
        "      Final_words.append(word_Final)\n",
        "  Corpus.loc[index,'text_final'] = str(Final_words)\n",
        "  \n",
        "  \n",
        "  \n",
        "  Train_X, Test_X, Train_Y, Test_Y = model_selection.train_test_split(Corpus['text_final'],Corpus['label'],test_size=0.3)\n",
        "  \n",
        "  \n",
        "  Encoder = LabelEncoder()\n",
        "Train_Y = Encoder.fit_transform(Train_Y)\n",
        "Test_Y = Encoder.fit_transform(Test_Y)\n",
        "\n",
        "\n",
        "\n",
        "Tfidf_vect = TfidfVectorizer(max_features=5000)\n",
        "Tfidf_vect.fit(Corpus['text_final'])\n",
        "Train_X_Tfidf = Tfidf_vect.transform(Train_X)\n",
        "Test_X_Tfidf = Tfidf_vect.transform(Test_X)\n",
        "\n",
        "\n",
        "\n",
        "print(Tfidf_vect.vocabulary_)\n",
        "\n",
        "\n",
        "\n",
        "print(Train_X_Tfidf)\n",
        "\n",
        "\n",
        "\n",
        "SVM = svm.SVC(C=1.0, kernel='linear', degree=3, gamma='auto')\n",
        "SVM.fit(Train_X_Tfidf,Train_Y)\n",
        "predictions_SVM = SVM.predict(Test_X_Tfidf)\n",
        "print(\"SVM Accuracy Score -> \",accuracy_score(predictions_SVM, Test_Y)*100)\n"
      ]
    }
  ]
}