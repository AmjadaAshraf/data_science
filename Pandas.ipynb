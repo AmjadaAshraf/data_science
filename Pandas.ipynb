{
  "nbformat": 4,
  "nbformat_minor": 0,
  "metadata": {
    "colab": {
      "name": "Pandas.ipynb",
      "provenance": [],
      "authorship_tag": "ABX9TyPthimJmGlas9u9peCyIN2G",
      "include_colab_link": true
    },
    "kernelspec": {
      "name": "python3",
      "display_name": "Python 3"
    },
    "language_info": {
      "name": "python"
    }
  },
  "cells": [
    {
      "cell_type": "markdown",
      "metadata": {
        "id": "view-in-github",
        "colab_type": "text"
      },
      "source": [
        "<a href=\"https://colab.research.google.com/github/AmjadaAshraf/data_science/blob/master/Pandas.ipynb\" target=\"_parent\"><img src=\"https://colab.research.google.com/assets/colab-badge.svg\" alt=\"Open In Colab\"/></a>"
      ]
    },
    {
      "cell_type": "code",
      "execution_count": 1,
      "metadata": {
        "colab": {
          "base_uri": "https://localhost:8080/"
        },
        "id": "Y14HI4T6Hywz",
        "outputId": "b9ebd3c4-49d2-493b-9d07-0c5f742c6398"
      },
      "outputs": [
        {
          "output_type": "stream",
          "name": "stdout",
          "text": [
            "1.3.5\n"
          ]
        }
      ],
      "source": [
        "import pandas as pds\n",
        "import numpy as np\n",
        "print(pds.__version__)"
      ]
    },
    {
      "cell_type": "code",
      "source": [
        "import pandas as pds\n",
        "s=pds.Series([2,3,7,8])\n",
        "print(s)\n",
        "\n",
        "import pandas as pds\n",
        "df=pds.DataFrame({'A':[1,2,3,4],'B':[4,5,6,7],'C':[8,9,10,11]})\n",
        "print(df)"
      ],
      "metadata": {
        "colab": {
          "base_uri": "https://localhost:8080/"
        },
        "id": "fSINXpKKILFR",
        "outputId": "223992aa-271b-4146-e8ec-965091ae8b56"
      },
      "execution_count": 2,
      "outputs": [
        {
          "output_type": "stream",
          "name": "stdout",
          "text": [
            "0    2\n",
            "1    3\n",
            "2    7\n",
            "3    8\n",
            "dtype: int64\n",
            "   A  B   C\n",
            "0  1  4   8\n",
            "1  2  5   9\n",
            "2  3  6  10\n",
            "3  4  7  11\n"
          ]
        }
      ]
    },
    {
      "cell_type": "code",
      "source": [
        "import pandas as pds\n",
        "data={\n",
        "    \"potato\":[12,11,16,17],\n",
        "    \"tomato\":[13,16,19,20]\n",
        "}\n",
        "df= pds.DataFrame(data, index = ['week1','week2','week3','week4'])\n",
        "print(df)"
      ],
      "metadata": {
        "colab": {
          "base_uri": "https://localhost:8080/"
        },
        "id": "Lz1_-ddAII3p",
        "outputId": "e75063a6-b9ac-4988-c0fe-92e9363ed6c9"
      },
      "execution_count": 3,
      "outputs": [
        {
          "output_type": "stream",
          "name": "stdout",
          "text": [
            "       potato  tomato\n",
            "week1      12      13\n",
            "week2      11      16\n",
            "week3      16      19\n",
            "week4      17      20\n"
          ]
        }
      ]
    },
    {
      "cell_type": "code",
      "source": [
        "import pandas as pds\n",
        "data={\n",
        "    \"course name\":[\"MCA\",\"MTECH\",\"BTECH\",\"ECE\"]\n",
        "}\n",
        "df= pds.DataFrame(data, index = ['course1','course2','course3','course4'])\n",
        "print(df)"
      ],
      "metadata": {
        "colab": {
          "base_uri": "https://localhost:8080/"
        },
        "id": "2AG4gepjIE6R",
        "outputId": "8f93b226-97cd-4991-b9e3-17008f508bd8"
      },
      "execution_count": 4,
      "outputs": [
        {
          "output_type": "stream",
          "name": "stdout",
          "text": [
            "        course name\n",
            "course1         MCA\n",
            "course2       MTECH\n",
            "course3       BTECH\n",
            "course4         ECE\n"
          ]
        }
      ]
    },
    {
      "cell_type": "code",
      "source": [
        "import pandas as pds\n",
        "s=pds.Series([\"anila\",\"anju\"])\n",
        "print(s)"
      ],
      "metadata": {
        "colab": {
          "base_uri": "https://localhost:8080/"
        },
        "id": "hsKTmEUFICiK",
        "outputId": "1728ddec-22e2-48a6-99cd-85dad6f49627"
      },
      "execution_count": 5,
      "outputs": [
        {
          "output_type": "stream",
          "name": "stdout",
          "text": [
            "0    anila\n",
            "1     anju\n",
            "dtype: object\n"
          ]
        }
      ]
    },
    {
      "cell_type": "code",
      "source": [
        "import pandas as pd\n",
        "print(\"mul table of 2\")\n",
        "a=[i for i in range(0,11)]\n",
        "ns=pd.Series(a)\n",
        "mul=ns.multiply(other=2)\n",
        "print(mul)\n",
        "import pandas as pd\n",
        "print(\"mul table of 3\")\n",
        "a=[i for i in range(0,11)]\n",
        "ns=pd.Series(a)\n",
        "mul=ns.multiply(other=3)\n",
        "print(mul)\n"
      ],
      "metadata": {
        "colab": {
          "base_uri": "https://localhost:8080/"
        },
        "id": "pl0ocv_0H_1a",
        "outputId": "ce4cb18d-81b5-40e0-8635-c52744d0187c"
      },
      "execution_count": 7,
      "outputs": [
        {
          "output_type": "stream",
          "name": "stdout",
          "text": [
            "mul table of 2\n",
            "0      0\n",
            "1      2\n",
            "2      4\n",
            "3      6\n",
            "4      8\n",
            "5     10\n",
            "6     12\n",
            "7     14\n",
            "8     16\n",
            "9     18\n",
            "10    20\n",
            "dtype: int64\n",
            "mul table of 3\n",
            "0      0\n",
            "1      3\n",
            "2      6\n",
            "3      9\n",
            "4     12\n",
            "5     15\n",
            "6     18\n",
            "7     21\n",
            "8     24\n",
            "9     27\n",
            "10    30\n",
            "dtype: int64\n"
          ]
        }
      ]
    },
    {
      "cell_type": "code",
      "source": [
        "import pandas as pd\n",
        "data={\n",
        "    'Studname':[\"anu\",\"vinu\",\"basu\"],\n",
        "    'Grade':[\"A\",\"B\",\"C\"],\n",
        "    'Percentage':[90,78,90]\n",
        "}\n",
        "py=pd.DataFrame(data)\n",
        "print(py)"
      ],
      "metadata": {
        "colab": {
          "base_uri": "https://localhost:8080/"
        },
        "id": "VCypDk4-H9ga",
        "outputId": "e85a19f6-b744-45c4-8c24-7908009317bf"
      },
      "execution_count": 8,
      "outputs": [
        {
          "output_type": "stream",
          "name": "stdout",
          "text": [
            "  Studname Grade  Percentage\n",
            "0      anu     A          90\n",
            "1     vinu     B          78\n",
            "2     basu     C          90\n"
          ]
        }
      ]
    },
    {
      "cell_type": "code",
      "source": [
        "import pandas as pd\n",
        "data={\n",
        "    'Studname':[\"anu\",\"vinu\",\"basu\"],\n",
        "    'Grade':[\"A\",\"B\",\"C\"],\n",
        "    'Percentage':[90,78,90]\n",
        "}\n",
        "py=pd.DataFrame(data)\n",
        "print(py)"
      ],
      "metadata": {
        "colab": {
          "base_uri": "https://localhost:8080/"
        },
        "id": "_YmQG6lJH6ia",
        "outputId": "37099dea-8b31-4eab-d8c4-6c2ed06d68e9"
      },
      "execution_count": 9,
      "outputs": [
        {
          "output_type": "stream",
          "name": "stdout",
          "text": [
            "  Studname Grade  Percentage\n",
            "0      anu     A          90\n",
            "1     vinu     B          78\n",
            "2     basu     C          90\n"
          ]
        }
      ]
    }
  ]
}