{
  "nbformat": 4,
  "nbformat_minor": 0,
  "metadata": {
    "colab": {
      "name": "DECISIONTREE.ipynb",
      "provenance": [],
      "authorship_tag": "ABX9TyPIjqbNGWFsv04K4xgxzgHQ",
      "include_colab_link": true
    },
    "kernelspec": {
      "name": "python3",
      "display_name": "Python 3"
    },
    "language_info": {
      "name": "python"
    }
  },
  "cells": [
    {
      "cell_type": "markdown",
      "metadata": {
        "id": "view-in-github",
        "colab_type": "text"
      },
      "source": [
        "<a href=\"https://colab.research.google.com/github/AmjadaAshraf/data_science/blob/master/DECISIONTREE.ipynb\" target=\"_parent\"><img src=\"https://colab.research.google.com/assets/colab-badge.svg\" alt=\"Open In Colab\"/></a>"
      ]
    },
    {
      "cell_type": "code",
      "execution_count": null,
      "metadata": {
        "id": "9JJBNxFwOzon"
      },
      "outputs": [],
      "source": [
        "from sklearn.datasets import load_iris\n",
        "iris=load_iris()\n",
        "X=iris.data\n",
        "y=iris.target\n",
        "from sklearn import tree\n",
        "from sklearn.metrics import accuracy_score\n",
        "dt=tree.DecisionTreeClassifier()\n",
        "dt.fit(X,y)\n",
        "tree.plot_tree(dt)\n",
        "y_pred=dt.predict(X)\n",
        "print(y_pred)\n",
        "print(accuracy_score(y,y_pred))"
      ]
    }
  ]
}