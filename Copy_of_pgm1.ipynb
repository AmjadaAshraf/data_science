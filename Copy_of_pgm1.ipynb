{
  "nbformat": 4,
  "nbformat_minor": 0,
  "metadata": {
    "colab": {
      "name": "Copy of pgm1.ipynb",
      "provenance": [],
      "authorship_tag": "ABX9TyN8E9jZqTl+WPE8OSTYKHW3",
      "include_colab_link": true
    },
    "kernelspec": {
      "name": "python3",
      "display_name": "Python 3"
    },
    "language_info": {
      "name": "python"
    }
  },
  "cells": [
    {
      "cell_type": "markdown",
      "metadata": {
        "id": "view-in-github",
        "colab_type": "text"
      },
      "source": [
        "<a href=\"https://colab.research.google.com/github/AmjadaAshraf/data_science/blob/master/Copy_of_pgm1.ipynb\" target=\"_parent\"><img src=\"https://colab.research.google.com/assets/colab-badge.svg\" alt=\"Open In Colab\"/></a>"
      ]
    },
    {
      "cell_type": "code",
      "metadata": {
        "colab": {
          "base_uri": "https://localhost:8080/"
        },
        "id": "q4QCEtYYurma",
        "outputId": "857f927f-20a7-482b-ddb2-7e73bac0009b"
      },
      "source": [
        "num=int(input(\"enter num1:\"))\n",
        "if((num%2)==0):\n",
        "  print(\"positive number\");\n",
        "else:\n",
        "  print(\"negative number\");"
      ],
      "execution_count": null,
      "outputs": [
        {
          "output_type": "stream",
          "name": "stdout",
          "text": [
            "enter num1:12\n",
            "positive number\n"
          ]
        }
      ]
    },
    {
      "cell_type": "code",
      "metadata": {
        "colab": {
          "base_uri": "https://localhost:8080/"
        },
        "id": "BVaqsFZexEff",
        "outputId": "94c7d352-c628-4688-a345-c36973c490a8"
      },
      "source": [
        "a=int(input(\"enter num1:\"))\n",
        "b=int(input(\"enter num2:\"))\n",
        "print(\"sum=\")\n",
        "print (a+b)"
      ],
      "execution_count": null,
      "outputs": [
        {
          "output_type": "stream",
          "name": "stdout",
          "text": [
            "enter num1:23\n",
            "enter num2:32\n",
            "sum=\n",
            "55\n"
          ]
        }
      ]
    },
    {
      "cell_type": "code",
      "metadata": {
        "colab": {
          "base_uri": "https://localhost:8080/"
        },
        "id": "JRROA8XXyHH3",
        "outputId": "538b8518-a6de-4aa6-b993-4ddc3555da34"
      },
      "source": [
        "rev=0\n",
        "#num=1234\n",
        "num=int(input(\"enter a number:\"))\n",
        "while num > 0:\n",
        "  rem=num % 10\n",
        "  rev=rev * 10 + rem\n",
        "  num=num // 10\n",
        "print(\"reverse=\")\n",
        "print (str(rev))"
      ],
      "execution_count": null,
      "outputs": [
        {
          "output_type": "stream",
          "name": "stdout",
          "text": [
            "enter a number:1234\n",
            "reverse=\n",
            "4321\n"
          ]
        }
      ]
    },
    {
      "cell_type": "code",
      "metadata": {
        "colab": {
          "base_uri": "https://localhost:8080/"
        },
        "id": "YlK79GQp2LDf",
        "outputId": "7edc5d14-ce3e-4acc-fc53-c6728d6108aa"
      },
      "source": [
        "count=0\n",
        "num=int(input(\"enter a number\"))\n",
        "while num>0:\n",
        "  count=count+1\n",
        "  num=num//10\n",
        "print(\"number of digits:\")\n",
        "print(count)\n"
      ],
      "execution_count": null,
      "outputs": [
        {
          "output_type": "stream",
          "name": "stdout",
          "text": [
            "enter a number1234\n",
            "number of digits:\n",
            "4\n"
          ]
        }
      ]
    },
    {
      "cell_type": "code",
      "metadata": {
        "colab": {
          "base_uri": "https://localhost:8080/"
        },
        "id": "xU8r9Ay13t55",
        "outputId": "33c0cd90-1a32-42c3-f591-cbca6e149233"
      },
      "source": [
        "rev=0\n",
        "num=int(input(\"enter a number to check palindrome:\"))\n",
        "n=num\n",
        "flag=0\n",
        "while n>0:\n",
        "  rem=n%10\n",
        "  rev=rev*10+rem\n",
        "  n=n//10\n",
        "if (num==rev) :\n",
        "  flag=1\n",
        "if flag==1:\n",
        "  print(\"palindrome\")\n",
        "else :\n",
        "  print(\"not palindrome\")"
      ],
      "execution_count": null,
      "outputs": [
        {
          "output_type": "stream",
          "name": "stdout",
          "text": [
            "enter a number to check palindrome:434\n",
            "palindrome\n"
          ]
        }
      ]
    },
    {
      "cell_type": "code",
      "metadata": {
        "colab": {
          "base_uri": "https://localhost:8080/"
        },
        "id": "rPrABamK-Tq5",
        "outputId": "3c016523-71ac-4fbe-bf28-d2b8f97d1d95"
      },
      "source": [
        "import math\n",
        "r=int(input(\"enter the radius:\"))\n",
        "area=r*r*3.14\n",
        "perimeter=2*3.14*r\n",
        "print(\"area=\",area);\n",
        "print(\"perimeter:\",perimeter)"
      ],
      "execution_count": null,
      "outputs": [
        {
          "output_type": "stream",
          "name": "stdout",
          "text": [
            "enter the radius:3\n",
            "area= 28.26\n",
            "perimeter: 18.84\n"
          ]
        }
      ]
    },
    {
      "cell_type": "code",
      "metadata": {
        "colab": {
          "base_uri": "https://localhost:8080/"
        },
        "id": "EOgqVz2L15UZ",
        "outputId": "2b56188d-85e1-4906-9f97-beeb25a88c77"
      },
      "source": [
        "a=int(input(\"enter a:\"))\n",
        "b=int(input(\"enter b:\"))\n",
        "c=int(input(\"enter c:\"))\n",
        "if a>b and a>c :\n",
        "  print(\"a is biggest\")\n",
        "elif b>c :\n",
        "  print(\"b is biggest\")\n",
        "else :\n",
        "  print(\"c is biggest\")\n"
      ],
      "execution_count": null,
      "outputs": [
        {
          "output_type": "stream",
          "name": "stdout",
          "text": [
            "enter a:100\n",
            "enter b:30\n",
            "enter c:24\n",
            "a is biggest\n"
          ]
        }
      ]
    },
    {
      "cell_type": "code",
      "metadata": {
        "colab": {
          "base_uri": "https://localhost:8080/"
        },
        "id": "nJhU0LSsAUia",
        "outputId": "ec7cde1d-72d1-487e-caab-86bdf41ca754"
      },
      "source": [
        "numbers=input(\"enter a sequence of numbers seperated by , :\")\n",
        "numbersList=numbers.split(\",\")\n",
        "print(\"List:\")\n",
        "print(numbersList)\n",
        "print(\"Tuple:\")\n",
        "print(tuple(numbersList))"
      ],
      "execution_count": null,
      "outputs": [
        {
          "output_type": "stream",
          "name": "stdout",
          "text": [
            "enter a sequence of numbers seperated by , :23,45,23,12,56,78\n",
            "List:\n",
            "['23', '45', '23', '12', '56', '78']\n",
            "Tuple:\n",
            "('23', '45', '23', '12', '56', '78')\n"
          ]
        }
      ]
    },
    {
      "cell_type": "code",
      "metadata": {
        "colab": {
          "base_uri": "https://localhost:8080/"
        },
        "id": "9NulBU0jBvJD",
        "outputId": "d139c654-cf67-4077-fdd9-e6363f87bd59"
      },
      "source": [
        "list1=[\"Apple\",\"Banana\",\"Grapes\",\"Strawberry\",\"Cherry\"]\n",
        "print(\"First Element:\",list1[0])\n",
        "print(\"Last element:\",list1[-1])"
      ],
      "execution_count": null,
      "outputs": [
        {
          "output_type": "stream",
          "name": "stdout",
          "text": [
            "First Element: Apple\n",
            "Last element: Cherry\n"
          ]
        }
      ]
    },
    {
      "cell_type": "code",
      "metadata": {
        "colab": {
          "base_uri": "https://localhost:8080/"
        },
        "id": "hNIxruQjCUYK",
        "outputId": "bdcc2d29-3856-4755-ef0d-3bc985bbed02"
      },
      "source": [
        "dictionary1={\n",
        "    \"name\":\"arya\",\n",
        "    \"subject\":\"maths\",\n",
        "   # \"place\":\"Calicut\"\n",
        "}\n",
        "dictionary1[\"place\"]=\"calicut\"\n",
        "print(dictionary1)"
      ],
      "execution_count": null,
      "outputs": [
        {
          "output_type": "stream",
          "name": "stdout",
          "text": [
            "{'name': 'arya', 'subject': 'maths', 'place': 'calicut'}\n"
          ]
        }
      ]
    },
    {
      "cell_type": "code",
      "metadata": {
        "id": "0ybpWjJ6DenM",
        "colab": {
          "base_uri": "https://localhost:8080/"
        },
        "outputId": "28b99bd7-f835-4014-b5a9-f6b365088746"
      },
      "source": [
        "dict1={\n",
        "    \"name\":\"anagha\",\n",
        "    \"place\":\"nadakkavu\"\n",
        "}\n",
        "dict2={\n",
        "    \"place\":\"calicut\",\n",
        "    \"subject\":\"maths\"\n",
        "}\n",
        "dict3=dict1.copy()\n",
        "dict3.update(dict2)\n",
        "print(dict3)"
      ],
      "execution_count": null,
      "outputs": [
        {
          "output_type": "stream",
          "name": "stdout",
          "text": [
            "{'name': 'anagha', 'place': 'calicut', 'subject': 'maths'}\n"
          ]
        }
      ]
    },
    {
      "cell_type": "code",
      "metadata": {
        "id": "qmUrLs-3C0Sk"
      },
      "source": [
        "dict1={\n",
        "    \"a\":\"1\",\n",
        "    \"b\":\"2\",\n",
        "    \"c\":\"3\",\n",
        "    \"d\":\"4\"\n",
        "}\n",
        "print(dict1)\n",
        "print(\"length : \",len(dict1))"
      ],
      "execution_count": null,
      "outputs": []
    },
    {
      "cell_type": "code",
      "source": [
        "dict1={\"a\":\"Apple\",\"b\":\"Banana\",\"c\":\"Cherry\",\"d\":\"Dog\"}\n",
        "print(\"Keys : \",dict1.keys())\n",
        "print(\"Values : \",dict1.values())\n",
        "print(\"Items : \",dict1.items())"
      ],
      "metadata": {
        "id": "Aqiy-EWLmdy5"
      },
      "execution_count": null,
      "outputs": []
    },
    {
      "cell_type": "code",
      "source": [
        "num=int(input(\"enter a number: \"))\n",
        "if num > 50 :\n",
        "  if num < 100 :\n",
        "    print(\"greaterthan 50 and lessthan 100\")\n",
        "  else :\n",
        "    print(\"greaterthan 50 and 100\")\n",
        "else :\n",
        "  if num > 25 :\n",
        "    print(\"lessthan 50 and greaterthan 25\")\n",
        "  else :\n",
        "    print(\"lessthan 50 and 25\")"
      ],
      "metadata": {
        "id": "hnXvrsBZmmF6"
      },
      "execution_count": null,
      "outputs": []
    },
    {
      "cell_type": "code",
      "source": [
        "start=int(input(\"enter start range : \"))\n",
        "stop=int(input(\"enter stop range : \"))\n",
        "for x in range(start,stop+1):\n",
        "  print(x)"
      ],
      "metadata": {
        "id": "B_p9Mq2OmtNd"
      },
      "execution_count": null,
      "outputs": []
    },
    {
      "cell_type": "code",
      "source": [
        "for i in range(10):\n",
        "  if i == 3 :\n",
        "    pass;\n",
        "  if i == 5 :\n",
        "    continue;\n",
        "  if i >= 8:\n",
        "    break;\n",
        "  print(i)\n"
      ],
      "metadata": {
        "id": "iQJSOrjKmxvV"
      },
      "execution_count": null,
      "outputs": []
    },
    {
      "cell_type": "code",
      "source": [
        "fact=1\n",
        "n=int(input(\" n = \"))\n",
        "for i in range(1,n+1):\n",
        "  fact*=i\n",
        "print(\"Factorial of n\",fact)"
      ],
      "metadata": {
        "id": "k7CpDPzKm2p1"
      },
      "execution_count": null,
      "outputs": []
    },
    {
      "cell_type": "code",
      "source": [
        "n=int(input(\"enter n : \"))\n",
        "a=0\n",
        "b=1\n",
        "count=0\n",
        "print(a,b)\n",
        "for i in range(1,n+1):\n",
        "  if count<(n-2):\n",
        "    c=a+b\n",
        "    print(c)\n",
        "    count+=1\n",
        "    a=b\n",
        "    b=c\n",
        "  else :\n",
        "    break;"
      ],
      "metadata": {
        "id": "iHQeifwEm7zG"
      },
      "execution_count": null,
      "outputs": []
    },
    {
      "cell_type": "code",
      "source": [
        "text=\"Ayurvedic\"\n",
        "count=0\n",
        "for x in text:\n",
        "  if x==\"a\" or x==\"A\" :\n",
        "    count+=1\n",
        "  if x==\"e\" or x==\"E\" :\n",
        "    count+=1\n",
        "  if x==\"i\" or x==\"I\" :\n",
        "    count+=1\n",
        "  if x==\"o\" or x==\"O\" :\n",
        "    count+=1\n",
        "  if x==\"u\" or x==\"U\" :\n",
        "    count+=1\n",
        "print(\"Number of vowels : \",count)"
      ],
      "metadata": {
        "id": "hmwUhD8nnBPi"
      },
      "execution_count": null,
      "outputs": []
    },
    {
      "cell_type": "code",
      "source": [
        "def student(rollno,name,course):\n",
        "  print(\"Rollno : \",rollno)\n",
        "  print(\"Name : \",name)\n",
        "  print(\"Course : \",course)\n",
        "r=input(\"enter roll no:\")\n",
        "n=input(\"enter name:\")\n",
        "c=input(\"enter course:\")\n",
        "student(r,n,c)"
      ],
      "metadata": {
        "id": "nQoW6tmRnIzx"
      },
      "execution_count": null,
      "outputs": []
    },
    {
      "cell_type": "code",
      "source": [
        "n=int(input(\"N = \"))\n",
        "square=lambda n:n*n\n",
        "print(\"Square : \",square(n)) "
      ],
      "metadata": {
        "id": "z-pDG2VQnNDt"
      },
      "execution_count": null,
      "outputs": []
    },
    {
      "cell_type": "code",
      "source": [
        "def operations(a,b):\n",
        "  print(\"Addition : \",(a+b))\n",
        "  print(\"Subtraction : \",(a-b))\n",
        "  print(\"Multiplication : \",(a*b))\n",
        "  print(\"Division : \",(a/b))\n",
        "  print(\"Quotient : \",(a%b))\n",
        "num1=int(input(\"Number 1: \"))\n",
        "num2=int(input(\"Number 2 : \"))\n",
        "operations(num1,num2)"
      ],
      "metadata": {
        "id": "5bt2UecCnQ6X"
      },
      "execution_count": null,
      "outputs": []
    },
    {
      "cell_type": "code",
      "source": [
        "num=int(input(\"enter n : \"))\n",
        "def factorial(n):\n",
        "  if n==0 :\n",
        "    return 0;\n",
        "  if n==1:\n",
        "    return 1; \n",
        "  if n>1:\n",
        "    return (n*factorial(n-1))\n",
        "fact=factorial(num)\n",
        "print(\"Factorial of given number : \",fact)"
      ],
      "metadata": {
        "colab": {
          "base_uri": "https://localhost:8080/"
        },
        "id": "UFQIx0YpnVqi",
        "outputId": "9e2dc4e8-f88d-4c31-87ca-d706ab351a13"
      },
      "execution_count": null,
      "outputs": [
        {
          "output_type": "stream",
          "name": "stdout",
          "text": [
            "enter n : 20\n",
            "Factorial of given number :  2432902008176640000\n"
          ]
        }
      ]
    }
  ]
}