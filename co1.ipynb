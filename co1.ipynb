{
  "nbformat": 4,
  "nbformat_minor": 0,
  "metadata": {
    "colab": {
      "name": "co1.ipynb",
      "provenance": [],
      "collapsed_sections": [],
      "authorship_tag": "ABX9TyPdYr9sbznQTMQa5/CF3hqi",
      "include_colab_link": true
    },
    "kernelspec": {
      "name": "python3",
      "display_name": "Python 3"
    },
    "language_info": {
      "name": "python"
    }
  },
  "cells": [
    {
      "cell_type": "markdown",
      "metadata": {
        "id": "view-in-github",
        "colab_type": "text"
      },
      "source": [
        "<a href=\"https://colab.research.google.com/github/AmjadaAshraf/data_science/blob/master/co1.ipynb\" target=\"_parent\"><img src=\"https://colab.research.google.com/assets/colab-badge.svg\" alt=\"Open In Colab\"/></a>"
      ]
    },
    {
      "cell_type": "code",
      "metadata": {
        "colab": {
          "base_uri": "https://localhost:8080/"
        },
        "id": "mV6Al46o2vDE",
        "outputId": "54aa65a6-cfcd-4cad-e9f0-0db8412f738f"
      },
      "source": [
        "def concate_string(string1,string2):\n",
        "  return string1+string2\n",
        "str1=input(\"String 1: \")\n",
        "str2=input(\"String 2: \")\n",
        "str3=concate_string(str1,str2)\n",
        "print(\"String after concatination : \",str3)"
      ],
      "execution_count": null,
      "outputs": [
        {
          "output_type": "stream",
          "name": "stdout",
          "text": [
            "String 1: amj\n",
            "String 2: ada\n",
            "String after concatination :  amjada\n"
          ]
        }
      ]
    },
    {
      "cell_type": "code",
      "metadata": {
        "id": "fanOjhfr57QF",
        "colab": {
          "base_uri": "https://localhost:8080/"
        },
        "outputId": "c028b2dd-23f5-4983-eb3a-f50fa548a9ab"
      },
      "source": [
        "def fibonacci_recursion(n):\n",
        "    if n<=0:\n",
        "      return 0\n",
        "    if n==1:\n",
        "      return 1\n",
        "    else :\n",
        "      return (fibonacci_recursion(n-1)+fibonacci_recursion(n-2))\n",
        "n=int(input(\"enter n : \"))\n",
        "if n<=0:\n",
        "  print(\"enter the number of terms!!!\")\n",
        "else :\n",
        "  print(\"fibonacci sequance\")\n",
        "  for i in range(n):\n",
        "    print(fibonacci_recursion(i))"
      ],
      "execution_count": null,
      "outputs": [
        {
          "output_type": "stream",
          "name": "stdout",
          "text": [
            "enter n : 5\n",
            "fibonacci sequance\n",
            "0\n",
            "1\n",
            "1\n",
            "2\n",
            "3\n"
          ]
        }
      ]
    },
    {
      "cell_type": "code",
      "metadata": {
        "colab": {
          "base_uri": "https://localhost:8080/"
        },
        "id": "kIp09TW5ApKF",
        "outputId": "38dbad5b-29c0-46b1-9a88-034f154f3f76"
      },
      "source": [
        "def addition(a,b):\n",
        "  return a+b\n",
        "n1=int(input(\"number 1: \"))\n",
        "n2=int(input(\"number 2: \"))\n",
        "addition(n1,n2)"
      ],
      "execution_count": null,
      "outputs": [
        {
          "name": "stdout",
          "output_type": "stream",
          "text": [
            "number 1: 12\n",
            "number 2: 56\n"
          ]
        },
        {
          "output_type": "execute_result",
          "data": {
            "text/plain": [
              "68"
            ]
          },
          "metadata": {},
          "execution_count": 26
        }
      ]
    },
    {
      "cell_type": "code",
      "metadata": {
        "colab": {
          "base_uri": "https://localhost:8080/"
        },
        "id": "JaKBP2pPCsb8",
        "outputId": "96260413-54e1-42fe-c7ff-0da8e8465e2d"
      },
      "source": [
        "\n",
        "addition(10,20)"
      ],
      "execution_count": null,
      "outputs": [
        {
          "output_type": "execute_result",
          "data": {
            "text/plain": [
              "30"
            ]
          },
          "metadata": {},
          "execution_count": 38
        }
      ]
    },
    {
      "cell_type": "code",
      "metadata": {
        "colab": {
          "base_uri": "https://localhost:8080/"
        },
        "id": "JGgUmRBbDQib",
        "outputId": "ab8bc286-85e2-4179-b9ca-764d3a56d45d"
      },
      "source": [
        "import datetime\n",
        "#date=datetime.date.today()\n",
        "time=datetime.datetime.now()\n",
        "print(time)"
      ],
      "execution_count": null,
      "outputs": [
        {
          "output_type": "stream",
          "name": "stdout",
          "text": [
            "2021-11-22 05:16:05.500230\n"
          ]
        }
      ]
    },
    {
      "cell_type": "code",
      "metadata": {
        "colab": {
          "base_uri": "https://localhost:8080/"
        },
        "id": "NvlFLXEjExKL",
        "outputId": "73f5a5d2-4a3a-4d86-e247-b52c0254b80c"
      },
      "source": [
        "year=int(input(\"enter a year: \"))\n",
        "if (year%4)==0 and (year%100)!=0 :\n",
        "    print(\"Leap year\")\n",
        "else :\n",
        "    print(\"Not leap year\")"
      ],
      "execution_count": null,
      "outputs": [
        {
          "output_type": "stream",
          "name": "stdout",
          "text": [
            "enter a year: 2021\n",
            "Not leap year\n"
          ]
        }
      ]
    },
    {
      "cell_type": "code",
      "metadata": {
        "colab": {
          "base_uri": "https://localhost:8080/"
        },
        "id": "J9RYzmEOGsyK",
        "outputId": "7abdc04e-921b-4683-ca95-e437bc119090"
      },
      "source": [
        "class student :\n",
        "  rollno=input(\"Roll no : \")\n",
        "  name=input(\"Name : \")\n",
        "  tot_mark=int(input(\"Total mark : \"))\n",
        "print(\"\\nStudent Details:-\")\n",
        "print(\"Roll No : \",student.rollno)\n",
        "print(\"Name : \",student.name)\n",
        "print(\"Total Mark : \",student.tot_mark)"
      ],
      "execution_count": null,
      "outputs": [
        {
          "output_type": "stream",
          "name": "stdout",
          "text": [
            "Roll no : A09606\n",
            "Name : Arya Dayal\n",
            "Total mark : 560\n",
            "\n",
            "Student Details:-\n",
            "Roll No :  A09606\n",
            "Name :  Arya Dayal\n",
            "Total Mark :  560\n"
          ]
        }
      ]
    },
    {
      "cell_type": "code",
      "metadata": {
        "colab": {
          "base_uri": "https://localhost:8080/"
        },
        "id": "gAYa1BDkIJaz",
        "outputId": "1f9ce0ab-0caa-4312-9493-fddd2c07506e"
      },
      "source": [
        "class Rectangle :\n",
        "  length=10\n",
        "  breadth=20\n",
        "  def rectangle_area(l,b):\n",
        "    return l*b\n",
        "  def rectangle_perimeter(l,b):\n",
        "    return (2*(l+b))\n",
        "print(\"Length : \",Rectangle.length)\n",
        "print(\"Breadth : \",Rectangle.breadth)\n",
        "print(\"Area of rectangle : \",Rectangle.rectangle_area(Rectangle.length,Rectangle.breadth))\n",
        "print(\"Perimeter of rectangle :\",Rectangle.rectangle_perimeter(Rectangle.length,Rectangle.breadth))"
      ],
      "execution_count": null,
      "outputs": [
        {
          "output_type": "stream",
          "name": "stdout",
          "text": [
            "Length :  10\n",
            "Breadth :  20\n",
            "Area of rectangle :  200\n",
            "Perimeter of rectangle : 60\n"
          ]
        }
      ]
    },
    {
      "cell_type": "code",
      "metadata": {
        "id": "p3j-wAXpJIC6",
        "colab": {
          "base_uri": "https://localhost:8080/"
        },
        "outputId": "d7afda2c-02d2-42a8-b063-c8a5c71d0e4d"
      },
      "source": [
        "class Rect:\n",
        "  def __init__(self,l,b):\n",
        "    self.l=l\n",
        "    self.b=b\n",
        "  def display(self):\n",
        "    area=self.l*self.b\n",
        "    perimeter=2*(self.l+self.b)\n",
        "    print(\"length:\",self.l)\n",
        "    print(\"breadth:\",self.b)\n",
        "    print(\"area:\",area)\n",
        "    print(\"perimeter:\",perimeter)\n",
        "obj1=Rect(10,20)\n",
        "obj2=Rect(5,4)\n",
        "obj1.display()\n",
        "obj2.display()\n"
      ],
      "execution_count": null,
      "outputs": [
        {
          "output_type": "stream",
          "name": "stdout",
          "text": [
            "length: 10\n",
            "breadth: 20\n",
            "area: 200\n",
            "perimeter: 60\n",
            "length: 5\n",
            "breadth: 4\n",
            "area: 20\n",
            "perimeter: 18\n"
          ]
        }
      ]
    },
    {
      "cell_type": "code",
      "metadata": {
        "colab": {
          "base_uri": "https://localhost:8080/"
        },
        "id": "hPWc9gdKIAZN",
        "outputId": "ed68f5a1-9824-4cb3-d0c8-c9c89d0f4b52"
      },
      "source": [
        "dict1={}\n",
        "dict1[1]=\"Ant\"\n",
        "dict1[3]=\"Cat\"\n",
        "dict1[2]=\"Bear\"\n",
        "dict1[5]=\"Elephant\"\n",
        "dict1[4]=\"Dog\"\n",
        "dict1[6]=\"fox\"\n",
        "for i in sorted(dict1):\n",
        "  print(i,dict1[i])"
      ],
      "execution_count": null,
      "outputs": [
        {
          "output_type": "stream",
          "name": "stdout",
          "text": [
            "1 Ant\n",
            "2 Bear\n",
            "3 Cat\n",
            "4 Dog\n",
            "5 Elephant\n",
            "6 fox\n"
          ]
        }
      ]
    },
    {
      "cell_type": "code",
      "metadata": {
        "colab": {
          "base_uri": "https://localhost:8080/"
        },
        "id": "YhPs5I1PL-9D",
        "outputId": "6865debb-e4bf-43b3-e813-ef3516a15abb"
      },
      "source": [
        "class Operations:\n",
        "  def __init__(self,n1,n2):\n",
        "    self.n1=n1\n",
        "    self.n2=n2\n",
        "  def add(self,n1,n2):\n",
        "    return self.n1+self.n2\n",
        "  def sub(self,n1,n2):\n",
        "    return self.n1-self.n2\n",
        "  def mul(self,n1,n2):\n",
        "    return self.n1*self.n2\n",
        "  def div(self,n1,n2):\n",
        "    return self.n1/self.n2\n",
        "  def mod(self,n1,n2):\n",
        "    return self.n1%self.n2\n",
        "n1=int(input(\"number1: \"))\n",
        "n2=int(input(\"number2: \"))\n",
        "obj1=Operations(n1,n2)\n",
        "print(n1,\"+\",n2,\" \",obj1.add(n1,n2))\n",
        "print(n1,\"-\",n2,\" \",obj1.sub(n1,n2))\n",
        "print(n1,\"*\",n2,\" \",obj1.mul(n1,n2))\n",
        "print(n1,\"/\",n2,\" \",obj1.div(n1,n2))\n",
        "print(n1,\"%\",n2,\" \",obj1.mod(n1,n2))"
      ],
      "execution_count": null,
      "outputs": [
        {
          "output_type": "stream",
          "name": "stdout",
          "text": [
            "number1: 4\n",
            "number2: 2\n",
            "4 + 2   6\n",
            "4 - 2   2\n",
            "4 * 2   8\n",
            "4 / 2   2.0\n",
            "4 % 2   0\n"
          ]
        }
      ]
    },
    {
      "cell_type": "code",
      "metadata": {
        "id": "r126cptCQ7Z5"
      },
      "source": [
        "a=int(input(\"number 1: \"))\n",
        "b=int(input(\"number 2: \"))\n",
        "try:\n",
        "  res=a/b\n",
        "  print(a,\"/\",b,\" \",res)\n",
        "except:\n",
        "  print()\n"
      ],
      "execution_count": null,
      "outputs": []
    },
    {
      "cell_type": "code",
      "metadata": {
        "colab": {
          "base_uri": "https://localhost:8080/"
        },
        "id": "ScxvXYjTHtSS",
        "outputId": "59029874-64f5-4d40-f7a2-37c51642c0d4"
      },
      "source": [
        "x=[[1,2,3],[5,6,7]]\n",
        "res=[[0,0],[0,0],[0,0]]\n",
        "for i in range(len(x)):\n",
        "  for j in range(len(x[0])):\n",
        "    res[j][i]=x[i][j]\n",
        "for r in res:\n",
        "  print(r)"
      ],
      "execution_count": null,
      "outputs": [
        {
          "output_type": "stream",
          "name": "stdout",
          "text": [
            "[1, 5]\n",
            "[2, 6]\n",
            "[3, 7]\n"
          ]
        }
      ]
    },
    {
      "cell_type": "code",
      "metadata": {
        "colab": {
          "base_uri": "https://localhost:8080/"
        },
        "id": "MBFVOtStXv8X",
        "outputId": "db0601ad-52aa-4e29-b0ec-d0e35f427077"
      },
      "source": [
        "import numpy as np\n",
        " \n",
        "#Creating a matrix A\n",
        "A = np.array([[3,4,3],[1,2,3],[4,2,1]])\n",
        " \n",
        "#Performing SVD\n",
        "U, sigma , V = np.linalg.svd(A)\n",
        "\n",
        "print(\"matrix U :\\n\",U)\n",
        "print(\"matrix sigma :\\n\",sigma)\n",
        "print(\"matrix VT :\\n\",V)\n",
        "#Checking if we can remake the original matrix using U,D,VT\n",
        "A_remake = (U @ np.diag(sigma) @ V)\n",
        "print(\"Remaked Matrix :\\n\",A_remake)"
      ],
      "execution_count": null,
      "outputs": [
        {
          "output_type": "stream",
          "name": "stdout",
          "text": [
            "matrix U :\n",
            " [[-0.73553325 -0.18392937 -0.65204358]\n",
            " [-0.42657919 -0.62196982  0.65664582]\n",
            " [-0.52632788  0.76113306  0.37901904]]\n",
            "matrix sigma :\n",
            " [7.87764972 2.54031671 0.69958986]\n",
            "matrix VT :\n",
            " [[-0.60151068 -0.61540527 -0.5093734 ]\n",
            " [ 0.73643349 -0.18005275 -0.65210944]\n",
            " [ 0.30959751 -0.76737042  0.5615087 ]]\n",
            "Remaked Matrix :\n",
            " [[3. 4. 3.]\n",
            " [1. 2. 3.]\n",
            " [4. 2. 1.]]\n"
          ]
        }
      ]
    },
    {
      "cell_type": "code",
      "metadata": {
        "colab": {
          "base_uri": "https://localhost:8080/"
        },
        "id": "_4PTGSL0cc4e",
        "outputId": "cc291c90-2b4e-40f8-80a6-7b12fd4abe8d"
      },
      "source": [
        "x=[[1,2,3],[5,6,7]]\n",
        "print(np.transpose(x))"
      ],
      "execution_count": null,
      "outputs": [
        {
          "output_type": "stream",
          "name": "stdout",
          "text": [
            "[[1 5]\n",
            " [2 6]\n",
            " [3 7]]\n"
          ]
        }
      ]
    }
  ]
}